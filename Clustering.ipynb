{
 "cells": [
  {
   "cell_type": "markdown",
   "metadata": {},
   "source": [
    "# <span style='color:BLUE'> BIOVID Pain Data </span>"
   ]
  },
  {
   "cell_type": "code",
   "execution_count": 1,
   "metadata": {},
   "outputs": [
    {
     "name": "stderr",
     "output_type": "stream",
     "text": [
      "/Users/burcuozek/opt/anaconda3/lib/python3.8/site-packages/pandas/core/computation/expressions.py:20: UserWarning: Pandas requires version '2.7.3' or newer of 'numexpr' (version '2.7.1' currently installed).\n",
      "  from pandas.core.computation.check import NUMEXPR_INSTALLED\n"
     ]
    }
   ],
   "source": [
    "import pandas as pd\n",
    "from scipy import signal\n",
    "import matplotlib.pyplot as plt\n",
    "import numpy as np\n",
    "import os\n",
    "cwd = os.getcwd()\n",
    "cwd\n",
    "\n",
    "from numpy import mean\n",
    "from numpy import std\n",
    "import pycatch22\n",
    "from sklearn.preprocessing import MinMaxScaler\n",
    "from sklearn.cluster import KMeans\n",
    "import seaborn as sns\n",
    "import matplotlib.pyplot as plt"
   ]
  },
  {
   "cell_type": "code",
   "execution_count": 2,
   "metadata": {},
   "outputs": [],
   "source": [
    "# Defining all the conditions inside a function\n",
    "def condition(x):\n",
    "    if x == 'BL1':\n",
    "        return 0\n",
    "    elif x == 'PA1':\n",
    "        return 1\n",
    "    elif x == 'PA2':\n",
    "        return 2\n",
    "    elif x == 'PA3':\n",
    "        return 3\n",
    "    else:\n",
    "        return 4"
   ]
  },
  {
   "cell_type": "markdown",
   "metadata": {},
   "source": [
    "### <span style='color:red'> Read Subject Names </span>"
   ]
  },
  {
   "cell_type": "code",
   "execution_count": 2,
   "metadata": {},
   "outputs": [],
   "source": [
    "#Change the directory\n",
    "directory_read_names = ''\n",
    "samples = pd.read_csv (directory_read_names + 'samples_people.csv',sep='\\t')\n"
   ]
  },
  {
   "cell_type": "code",
   "execution_count": 3,
   "metadata": {},
   "outputs": [],
   "source": [
    "print('how many subjects')\n",
    "print(samples.subject_id.nunique())\n",
    "print('subjects')\n",
    "print(samples.subject_id.unique())\n",
    "#######\n",
    "print('how many subject names')\n",
    "print(samples.subject_name.nunique())\n",
    "print('subjects names')\n",
    "print(samples.subject_name.unique())\n",
    "#######\n",
    "print('how many class')\n",
    "print(samples.class_id.nunique())\n",
    "print(samples.class_id.unique())\n",
    "#######\n",
    "print('how many class name')\n",
    "print(samples.class_name.unique())\n",
    "print(samples.class_name.nunique())\n",
    "#######\n",
    "print('how many samples')\n",
    "print(samples.sample_id.unique())\n",
    "print(samples.sample_id.nunique())\n",
    "print(samples.sample_name.unique())\n",
    "print(samples.sample_name.nunique())\n",
    "from scipy.stats import zscore\n",
    "# print(samples[('subject_name','subject_id')].unique())\n",
    "# np.unique(samples[['subject_id', 'subject_name']])\n",
    "# print(samples.subject_name.nunique())\n",
    "# print(np.unique(samples[['subject_id', 'subject_name']].values))\n",
    "# pd.concat([samples['subject_id'],samples['subject_name']]).unique()"
   ]
  },
  {
   "cell_type": "code",
   "execution_count": 4,
   "metadata": {},
   "outputs": [],
   "source": [
    "samples_id_1 = samples[samples['subject_id'] == 1]\n",
    "display(samples_id_1)\n",
    "print(samples_id_1.subject_id.unique())\n",
    "print(samples_id_1.subject_id.nunique())\n",
    "print(samples_id_1.subject_name.unique())\n",
    "print(samples_id_1.subject_name.nunique())\n",
    "print(samples_id_1.class_id.unique())\n",
    "print(samples_id_1.class_id.nunique())\n",
    "print(samples_id_1.sample_id.unique())\n",
    "print(samples_id_1.sample_id.nunique())\n",
    "print(samples_id_1.sample_name.unique())\n",
    "print(samples_id_1.sample_name.nunique())"
   ]
  },
  {
   "cell_type": "markdown",
   "metadata": {},
   "source": [
    "### <span style='color:red'> Read all subjects seperately </span>"
   ]
  },
  {
   "cell_type": "code",
   "execution_count": 5,
   "metadata": {},
   "outputs": [],
   "source": [
    "subjectnames_list = samples.subject_name.unique()\n",
    "\n",
    "for subject_id in range(1,88): \n",
    "    subject_name = subjectnames_list[subject_id-1]\n",
    "    print('number' ,subject_id, 'subject name',subject_name)\n",
    "    df = pd.read_excel('/Users/burcuozek/Desktop/Prediction Interval Work/Prediction Interval/code/EachSubject_Data_MinMax/'+ subject_name +'_minmax.xlsx')\n",
    "    df = df.drop(['Unnamed: 0'], axis=1)\n",
    "#     print(df.shape)\n",
    "\n",
    "    \n",
    "    df_subject_vector = df.groupby('Pain_Regression_Level').agg({ 'DN_OutlierInclude_p_001_mdrmd':'mean',\n",
    "                                       'DN_OutlierInclude_n_001_mdrmd':'mean','CO_Embed2_Dist_tau_d_expfit_meandiff':'mean' }).reset_index()\n",
    "\n",
    "    df_subject_vector = df_subject_vector.drop(['Pain_Regression_Level'], axis=1)\n",
    "    subject_vector = np.transpose(df_subject_vector.values).reshape(1,5*3)\n",
    "#     print(subject_vector.shape)\n",
    "   \n",
    "    if subject_id == 1:\n",
    "        all_subjects_vectors = pd.DataFrame(subject_vector)\n",
    "\n",
    "    else:\n",
    "        df_temp = pd.DataFrame(subject_vector)\n",
    "\n",
    "        all_subjects_vectors = all_subjects_vectors.append(df_temp)\n",
    "\n",
    "        \n",
    "display(all_subjects_vectors)"
   ]
  },
  {
   "cell_type": "code",
   "execution_count": 9,
   "metadata": {},
   "outputs": [],
   "source": [
    "number_clusters = 4\n",
    "kmeans = KMeans(\n",
    "    init=\"random\",\n",
    "    n_clusters=number_clusters,\n",
    "    n_init=10,\n",
    "    max_iter=300,\n",
    "    random_state=42\n",
    ")\n",
    "\n",
    "kmeans.fit(all_subjects_vectors)\n",
    "clusters = kmeans.labels_\n",
    "# all_subjects_vectors['Clusters'] = clusters[:].reshape(len(clusters),1)\n",
    "# all_subjects_vectors"
   ]
  },
  {
   "cell_type": "code",
   "execution_count": 11,
   "metadata": {},
   "outputs": [],
   "source": [
    "from scipy.spatial.distance import cdist\n",
    "\n",
    "matrix = np.array(all_subjects_vectors)\n",
    "# Perform k-means clustering with 4 clusters\n",
    "# kmeans = KMeans(n_clusters=4, random_state=0).fit(matrix)\n",
    "\n",
    "kmeans = KMeans(\n",
    "    init=\"random\",\n",
    "    n_clusters=number_clusters,\n",
    "    n_init=10,\n",
    "    max_iter=300,\n",
    "    random_state=42\n",
    ")\n",
    "\n",
    "kmeans.fit(all_subjects_vectors)\n",
    "labels = kmeans.labels_"
   ]
  },
  {
   "cell_type": "markdown",
   "metadata": {},
   "source": [
    "\n"
   ]
  },
  {
   "cell_type": "code",
   "execution_count": 13,
   "metadata": {},
   "outputs": [
    {
     "name": "stdout",
     "output_type": "stream",
     "text": [
      "Average pairwise distances: [0.44980766536136096, 0.461973582916587, 0.48705964241276406, 0.5133359386026358]\n"
     ]
    }
   ],
   "source": [
    "# Calculate the Euclidean distance within each cluster\n",
    "distances = []\n",
    "for label in np.unique(labels):\n",
    "    mask = labels == label\n",
    "    cluster_indices = np.where(mask)[0]\n",
    "    cluster = matrix[cluster_indices, :]\n",
    "    pairwise_distances = cdist(cluster, cluster, metric='euclidean')\n",
    "    average_pairwise_distance = np.mean(pairwise_distances)\n",
    "    distances.append(average_pairwise_distance)\n",
    "\n",
    "# Print the average pairwise distances for each cluster\n",
    "print(\"Average pairwise distances:\", distances)"
   ]
  },
  {
   "cell_type": "code",
   "execution_count": 16,
   "metadata": {},
   "outputs": [],
   "source": [
    "# Calculate distances within each cluster\n",
    "distances = []\n",
    "for label in np.unique(labels):\n",
    "    mask = labels == label\n",
    "    cluster = matrix[mask, :]\n",
    "    distances.append(cdist(cluster, cluster, metric='euclidean'))\n"
   ]
  },
  {
   "cell_type": "code",
   "execution_count": 17,
   "metadata": {},
   "outputs": [],
   "source": [
    "import numpy as np\n",
    "import matplotlib.pyplot as plt\n",
    "from scipy.spatial.distance import cdist\n",
    "\n",
    "# Calculate distances within each cluster\n",
    "distances = []\n",
    "for label in np.unique(labels):\n",
    "    mask = labels == label\n",
    "    cluster = matrix[mask, :]\n",
    "    distances.append(cdist(cluster, cluster, metric='euclidean'))\n"
   ]
  },
  {
   "cell_type": "code",
   "execution_count": 18,
   "metadata": {},
   "outputs": [
    {
     "name": "stdout",
     "output_type": "stream",
     "text": [
      "(256, 2)\n",
      "(400, 2)\n",
      "(676, 2)\n",
      "(625, 2)\n"
     ]
    }
   ],
   "source": [
    "c1 = distances[0].flatten()\n",
    "df = pd.DataFrame(c1 , columns = ['Pairwise (Euclidean) Distance'])\n",
    "df['Cluster'] = \"Cluster 1     Avg Dist = 0.44\"\n",
    "print(df.shape)\n",
    "\n",
    "c2 = distances[1].flatten()\n",
    "df2 = pd.DataFrame(c2 , columns = ['Pairwise (Euclidean) Distance'])\n",
    "df2['Cluster'] = \"Cluster 2     Avg Dist = 0.46\"\n",
    "print(df2.shape)\n",
    "\n",
    "c3 = distances[2].flatten()\n",
    "df3 = pd.DataFrame(c3 , columns = ['Pairwise (Euclidean) Distance'])\n",
    "df3['Cluster'] = \"Cluster 3     Avg Dist = 0.48\"\n",
    "print(df3.shape)\n",
    "\n",
    "c4 = distances[3].flatten()\n",
    "df4 = pd.DataFrame(c4 , columns = ['Pairwise (Euclidean) Distance'])\n",
    "df4['Cluster'] = \"Cluster 4     Avg Dist = 0.51\"\n",
    "print(df4.shape)"
   ]
  },
  {
   "cell_type": "code",
   "execution_count": 19,
   "metadata": {},
   "outputs": [],
   "source": [
    "results = pd.concat([df, df2,df3,df4] ,axis=0)"
   ]
  },
  {
   "cell_type": "code",
   "execution_count": 21,
   "metadata": {},
   "outputs": [
    {
     "data": {
      "image/png": "[encoded data removed]",
      "text/plain": [
       "<Figure size 443.76x227.755 with 1 Axes>"
      ]
     },
     "metadata": {},
     "output_type": "display_data"
    }
   ],
   "source": [
    "import textwrap\n",
    "import seaborn as sns\n",
    "import matplotlib.pyplot as plt\n",
    "\n",
    "desired_dpi = 600\n",
    "# desired_width_px = 4000\n",
    "# desired_height_px = 5249\n",
    "\n",
    "\n",
    "\n",
    "# Width: 789 – 2250 pixels (at 300 dpi). Height maximum: 2625 pixels (at 300 dpi).\n",
    "\n",
    "\n",
    "\n",
    "desired_dpi = 300\n",
    "# desired_width_px = 4000\n",
    "# desired_height_px = 5249\n",
    "\n",
    "# desired_width_px = 2250\n",
    "# desired_height_px = 2625\n",
    "\n",
    "desired_width_px = 1849\n",
    "desired_height_px = 2325\n",
    "\n",
    "\n",
    "# desired_width_px = 3000\n",
    "# desired_height_px = 4449\n",
    "\n",
    "fig_width = desired_width_px / desired_dpi\n",
    "fig_height = desired_height_px / (desired_dpi * 2.45)\n",
    "\n",
    "# Set the figsize parameter when creating the figure\n",
    "plt.figure(figsize=(fig_width, fig_height))\n",
    "\n",
    "sns.set(style=\"white\",rc={\"font.size\": 12}, color_codes=True)\n",
    "# colors = [\"#F16C5E\", \"#FF8C87\", \"#FBB4AE\", \"#FDE2E2\"]\n",
    "\n",
    "colors = sns.color_palette(\"tab10\")\n",
    "\n",
    "# sns.set(style=\"white\", font_scale=1.3, rc={\"font.size\": 14}, color_codes=True)\n",
    "# sns.set_palette(colors)\n",
    "\n",
    "\n",
    "\n",
    "ax = sns.boxplot(data=results, x=\"Cluster\", y=\"Pairwise (Euclidean) Distance\", palette=colors)\n",
    "\n",
    "max_width = 11\n",
    "ax.set_xticklabels([textwrap.fill(x.get_text(), max_width) for x in ax.get_xticklabels()], fontsize=12)\n",
    "ax.tick_params(axis='y', labelsize=12)\n",
    "\n",
    "# Adjust the font size directly for the y-axis label\n",
    "ax.set_ylabel(\"Euclidean Distance\", fontsize=12)  # Adjust the fontsize value as needed\n",
    "\n",
    "\n",
    "\n",
    "ax.set_xlabel(\"\")\n",
    "\n",
    "plt.tight_layout()\n",
    "plt.savefig('distance_boxplots_Mar29.tif', dpi=desired_dpi,  format=\"tif\",facecolor='white',pil_kwargs={\"compression\": \"tiff_lzw\"})\n",
    "# plt.savefig('distance_boxplots_Nov21.png', dpi=600)\n",
    "plt.show()\n"
   ]
  }
 ],
 "metadata": {
  "kernelspec": {
   "display_name": "Python 3",
   "language": "python",
   "name": "python3"
  },
  "language_info": {
   "codemirror_mode": {
    "name": "ipython",
    "version": 3
   },
   "file_extension": ".py",
   "mimetype": "text/x-python",
   "name": "python",
   "nbconvert_exporter": "python",
   "pygments_lexer": "ipython3",
   "version": "3.8.5"
  }
 },
 "nbformat": 4,
 "nbformat_minor": 4
}
