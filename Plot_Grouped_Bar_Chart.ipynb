{
 "cells": [
  {
   "cell_type": "markdown",
   "metadata": {},
   "source": [
    "# Bar charts to compare performance"
   ]
  },
  {
   "cell_type": "code",
   "execution_count": 1,
   "metadata": {},
   "outputs": [],
   "source": [
    "import pandas as pd\n",
    "from scipy import signal\n",
    "import matplotlib.pyplot as plt\n",
    "import numpy as np\n",
    "import matplotlib.pyplot as plt\n",
    "import seaborn as sns\n",
    "from matplotlib.ticker import FuncFormatter\n",
    "import matplotlib.ticker as mtick\n",
    "import os\n",
    "cwd = os.getcwd()\n",
    "cwd"
   ]
  },
  {
   "cell_type": "code",
   "execution_count": 2,
   "metadata": {},
   "outputs": [],
   "source": [
    "directory_read_names = ''\n",
    "bar_chart = pd.read_excel (directory_read_names + 'Results_Clusters_updated_v2.xlsx',sheet_name = 'Barcharts')"
   ]
  },
  {
   "cell_type": "code",
   "execution_count": 3,
   "metadata": {},
   "outputs": [
    {
     "data": {
      "text/html": [
       "<div>\n",
       "<style scoped>\n",
       "    .dataframe tbody tr th:only-of-type {\n",
       "        vertical-align: middle;\n",
       "    }\n",
       "\n",
       "    .dataframe tbody tr th {\n",
       "        vertical-align: top;\n",
       "    }\n",
       "\n",
       "    .dataframe thead th {\n",
       "        text-align: right;\n",
       "    }\n",
       "</style>\n",
       "<table border=\"1\" class=\"dataframe\">\n",
       "  <thead>\n",
       "    <tr style=\"text-align: right;\">\n",
       "      <th></th>\n",
       "      <th>PICP</th>\n",
       "      <th>MPIW</th>\n",
       "      <th>Models</th>\n",
       "    </tr>\n",
       "  </thead>\n",
       "  <tbody>\n",
       "    <tr>\n",
       "      <th>0</th>\n",
       "      <td>0.50</td>\n",
       "      <td>0.367</td>\n",
       "      <td>Cluster 1</td>\n",
       "    </tr>\n",
       "    <tr>\n",
       "      <th>1</th>\n",
       "      <td>0.75</td>\n",
       "      <td>1.469</td>\n",
       "      <td>Cluster 1</td>\n",
       "    </tr>\n",
       "    <tr>\n",
       "      <th>2</th>\n",
       "      <td>0.85</td>\n",
       "      <td>1.854</td>\n",
       "      <td>Cluster 1</td>\n",
       "    </tr>\n",
       "    <tr>\n",
       "      <th>3</th>\n",
       "      <td>0.95</td>\n",
       "      <td>2.500</td>\n",
       "      <td>Cluster 1</td>\n",
       "    </tr>\n",
       "    <tr>\n",
       "      <th>4</th>\n",
       "      <td>0.50</td>\n",
       "      <td>0.420</td>\n",
       "      <td>Cluster 2</td>\n",
       "    </tr>\n",
       "  </tbody>\n",
       "</table>\n",
       "</div>"
      ],
      "text/plain": [
       "   PICP   MPIW     Models\n",
       "0  0.50  0.367  Cluster 1\n",
       "1  0.75  1.469  Cluster 1\n",
       "2  0.85  1.854  Cluster 1\n",
       "3  0.95  2.500  Cluster 1\n",
       "4  0.50  0.420  Cluster 2"
      ]
     },
     "metadata": {},
     "output_type": "display_data"
    },
    {
     "data": {
      "text/plain": [
       "(24, 3)"
      ]
     },
     "execution_count": 3,
     "metadata": {},
     "output_type": "execute_result"
    }
   ],
   "source": [
    "# test data set results\n",
    "bar_chart = bar_chart[['PICP','MPIW','Models']]\n",
    "display(bar_chart.head())\n",
    "bar_chart.shape"
   ]
  },
  {
   "cell_type": "code",
   "execution_count": 4,
   "metadata": {},
   "outputs": [
    {
     "name": "stdout",
     "output_type": "stream",
     "text": [
      "6\n"
     ]
    },
    {
     "data": {
      "text/plain": [
       "numpy.float64"
      ]
     },
     "execution_count": 4,
     "metadata": {},
     "output_type": "execute_result"
    }
   ],
   "source": [
    "print(bar_chart['Models'].nunique())\n",
    "bar_chart['Models'].unique()\n",
    "type(bar_chart['PICP'][0])"
   ]
  },
  {
   "cell_type": "code",
   "execution_count": 10,
   "metadata": {},
   "outputs": [
    {
     "data": {
      "image/png": "[encoded data removed]",
      "text/plain": [
       "<Figure size 539.76x328.235 with 1 Axes>"
      ]
     },
     "metadata": {},
     "output_type": "display_data"
    }
   ],
   "source": [
    "desired_dpi = 300\n",
    "\n",
    "desired_width_px = 2249\n",
    "desired_height_px = 2325\n",
    "\n",
    "fig_width = desired_width_px / desired_dpi\n",
    "fig_height = desired_height_px / (desired_dpi * 1.7)\n",
    "\n",
    "fig, ax = plt.subplots(figsize=(fig_width, fig_height))\n",
    "\n",
    "# colors = [\"#F16C5E\", \"#FF8C87\", \"#FBB4AE\", \"#FDE2E2\",\"#C7D9ED\", \"#6E8FC6\"]\n",
    "\n",
    "colors = sns.color_palette(\"tab10\")\n",
    "\n",
    "sns.set(style=\"white\", font_scale=1.3, rc={\"font.size\": 14}, color_codes=True)\n",
    "sns.set_palette(colors)\n",
    "\n",
    "sns.barplot(x='PICP', y='MPIW', hue='Models', data=bar_chart, palette=colors)\n",
    "\n",
    "# Adjust legend size\n",
    "legend = plt.legend(loc='upper left', ncol=1, title=\"\", fontsize=13.0)\n",
    "legend.set_title(\"\")  # Remove the legend title\n",
    "\n",
    "plt.ylabel('MPIW', fontsize=14)\n",
    "plt.xlabel('PICP', fontsize=14)\n",
    "plt.gca().set_xticklabels(['50%', '75%', '85%', '95%'])\n",
    "\n",
    "# Use tight_layout to improve layout\n",
    "plt.tight_layout()\n",
    "\n",
    "fig.savefig('bar_charts_March28.tif', dpi=desired_dpi,  format=\"tif\",facecolor='white',pil_kwargs={\"compression\": \"tiff_lzw\"})\n",
    "# plt.savefig('bar_charts_Nov20.png', dpi=600)\n",
    "plt.show()"
   ]
  }
 ],
 "metadata": {
  "kernelspec": {
   "display_name": "Python 3",
   "language": "python",
   "name": "python3"
  },
  "language_info": {
   "codemirror_mode": {
    "name": "ipython",
    "version": 3
   },
   "file_extension": ".py",
   "mimetype": "text/x-python",
   "name": "python",
   "nbconvert_exporter": "python",
   "pygments_lexer": "ipython3",
   "version": "3.8.5"
  }
 },
 "nbformat": 4,
 "nbformat_minor": 4
}
